{
 "cells": [
  {
   "cell_type": "markdown",
   "id": "e8cfac52-6825-4c2e-b3ba-d393097493c9",
   "metadata": {},
   "source": [
    "## Preparing our data\n",
    "This notebook contains the code to seperate the images in the given dataset into different directories based on their labels so that we can make use of Tensorflow's Image data generators.\n",
    "\n",
    "aptos_data/ contains the fundus images in the dataset and the csv files containing the labels.\n",
    "\n",
    "train.csv, test.csv, val.csv contains the image name and level of diabetic retinopathy on a scale of 0 to 4, according to the following scale:\n",
    "\n",
    "0 - No DR\n",
    "1 - Mild\n",
    "2 - Moderate\n",
    "3 - Severe\n",
    "4 - Proliferative DR\n",
    "\n",
    "prepared_data_aptos/ contains the prepared data ready to be used."
   ]
  },
  {
   "cell_type": "code",
   "execution_count": 32,
   "id": "6745135a-1785-4260-9db6-807ef0f248de",
   "metadata": {},
   "outputs": [],
   "source": [
    "import os\n",
    "import shutil\n",
    "import pandas as pd\n",
    "import numpy as np\n",
    "import cv2"
   ]
  },
  {
   "cell_type": "code",
   "execution_count": 33,
   "id": "383b6b89-c0cc-4aec-be90-24a29e9f0563",
   "metadata": {},
   "outputs": [
    {
     "data": {
      "text/html": [
       "<div>\n",
       "<style scoped>\n",
       "    .dataframe tbody tr th:only-of-type {\n",
       "        vertical-align: middle;\n",
       "    }\n",
       "\n",
       "    .dataframe tbody tr th {\n",
       "        vertical-align: top;\n",
       "    }\n",
       "\n",
       "    .dataframe thead th {\n",
       "        text-align: right;\n",
       "    }\n",
       "</style>\n",
       "<table border=\"1\" class=\"dataframe\">\n",
       "  <thead>\n",
       "    <tr style=\"text-align: right;\">\n",
       "      <th></th>\n",
       "      <th>diagnosis</th>\n",
       "    </tr>\n",
       "    <tr>\n",
       "      <th>id_code</th>\n",
       "      <th></th>\n",
       "    </tr>\n",
       "  </thead>\n",
       "  <tbody>\n",
       "    <tr>\n",
       "      <th>000c1434d8d7</th>\n",
       "      <td>2</td>\n",
       "    </tr>\n",
       "    <tr>\n",
       "      <th>001639a390f0</th>\n",
       "      <td>4</td>\n",
       "    </tr>\n",
       "    <tr>\n",
       "      <th>0024cdab0c1e</th>\n",
       "      <td>1</td>\n",
       "    </tr>\n",
       "    <tr>\n",
       "      <th>002c21358ce6</th>\n",
       "      <td>0</td>\n",
       "    </tr>\n",
       "    <tr>\n",
       "      <th>005b95c28852</th>\n",
       "      <td>0</td>\n",
       "    </tr>\n",
       "  </tbody>\n",
       "</table>\n",
       "</div>"
      ],
      "text/plain": [
       "              diagnosis\n",
       "id_code                \n",
       "000c1434d8d7          2\n",
       "001639a390f0          4\n",
       "0024cdab0c1e          1\n",
       "002c21358ce6          0\n",
       "005b95c28852          0"
      ]
     },
     "execution_count": 33,
     "metadata": {},
     "output_type": "execute_result"
    }
   ],
   "source": [
    "trainLabels = pd.read_csv('./aptos_data/train.csv')\n",
    "valLabels = pd.read_csv('./aptos_data/valid.csv')\n",
    "testLabels = pd.read_csv('./aptos_data/test.csv')\n",
    "trainLabels = trainLabels.set_index('id_code')\n",
    "valLabels = valLabels.set_index('id_code')\n",
    "testLabels = testLabels.set_index('id_code')\n",
    "valLabels.head()"
   ]
  },
  {
   "cell_type": "code",
   "execution_count": 34,
   "id": "37b4a023-6233-400a-bd17-8fa5c3325065",
   "metadata": {},
   "outputs": [
    {
     "name": "stdout",
     "output_type": "stream",
     "text": [
      "diagnosis\n",
      "0    1434\n",
      "2     808\n",
      "1     300\n",
      "4     234\n",
      "3     154\n",
      "Name: count, dtype: int64\n",
      "diagnosis\n",
      "0    172\n",
      "2    104\n",
      "1     40\n",
      "4     28\n",
      "3     22\n",
      "Name: count, dtype: int64\n",
      "diagnosis\n",
      "0    199\n",
      "2     87\n",
      "4     33\n",
      "1     30\n",
      "3     17\n",
      "Name: count, dtype: int64\n"
     ]
    }
   ],
   "source": [
    "print(trainLabels['diagnosis'].value_counts())\n",
    "print(valLabels['diagnosis'].value_counts())\n",
    "print(testLabels['diagnosis'].value_counts())"
   ]
  },
  {
   "cell_type": "code",
   "execution_count": 35,
   "id": "f09dfe5c-17ac-4c37-9dc0-6a153af05963",
   "metadata": {},
   "outputs": [],
   "source": [
    "os.makedirs('./prepared_data_aptos/val_data/0 - no_dr/', exist_ok=True)\n",
    "os.makedirs('./prepared_data_aptos/val_data/1 - mild/', exist_ok=True)\n",
    "os.makedirs('./prepared_data_aptos/val_data/2 - moderate/', exist_ok=True)\n",
    "os.makedirs('./prepared_data_aptos/val_data/3 - severe/', exist_ok=True)\n",
    "os.makedirs('./prepared_data_aptos/val_data/4 - proliferative/', exist_ok=True)\n",
    "os.makedirs('./prepared_data_aptos/train_data/0 - no_dr/', exist_ok=True)\n",
    "os.makedirs('./prepared_data_aptos/train_data/1 - mild/', exist_ok=True)\n",
    "os.makedirs('./prepared_data_aptos/train_data/2 - moderate/', exist_ok=True)\n",
    "os.makedirs('./prepared_data_aptos/train_data/3 - severe/', exist_ok=True)\n",
    "os.makedirs('./prepared_data_aptos/train_data/4 - proliferative/', exist_ok=True)\n",
    "os.makedirs('./prepared_data_aptos/test_data/0 - no_dr/', exist_ok=True)\n",
    "os.makedirs('./prepared_data_aptos/test_data/1 - mild/', exist_ok=True)\n",
    "os.makedirs('./prepared_data_aptos/test_data/2 - moderate/', exist_ok=True)\n",
    "os.makedirs('./prepared_data_aptos/test_data/3 - severe/', exist_ok=True)\n",
    "os.makedirs('./prepared_data_aptos/test_data/4 - proliferative/', exist_ok=True)"
   ]
  },
  {
   "cell_type": "code",
   "execution_count": 36,
   "id": "4e95c7e1-f335-4a24-9bb9-4954ad738a19",
   "metadata": {},
   "outputs": [
    {
     "data": {
      "text/plain": [
       "dtype('int64')"
      ]
     },
     "execution_count": 36,
     "metadata": {},
     "output_type": "execute_result"
    }
   ],
   "source": [
    "trainLabels['diagnosis'].dtype"
   ]
  },
  {
   "cell_type": "markdown",
   "id": "696e9c0e-1de8-4a1f-aafb-a88af4bbabbf",
   "metadata": {},
   "source": [
    "## Tranforming the data\n",
    "We make our images into 224x224 images so that it is compatible with the VGG16 model present in tensorflow.keras.applications."
   ]
  },
  {
   "cell_type": "code",
   "execution_count": 37,
   "id": "cd788a5b-f8ca-40e3-b0ae-6424715feb6e",
   "metadata": {},
   "outputs": [],
   "source": [
    "import cv2\n",
    "direc = './atpos_data/train_images/'\n",
    "dest = './prepared_data_aptos/train_data/'\n",
    "severity = { \n",
    "             0:'0 - no_dr',\n",
    "             1:'1 - mild',\n",
    "             2:'2 - moderate',\n",
    "             3:'3 - severe',\n",
    "             4:'4 - proliferative',\n",
    "           }\n",
    "for dirpath, dirname, filename in os.walk(direc):\n",
    "    for f in filename:\n",
    "        im = cv2.imread(direc+f)\n",
    "        im = cv2.resize(im, (224, 224))\n",
    "        ind = (f.split('.'))[0]\n",
    "        sev = trainLabels.loc[ind].values[0]\n",
    "        cv2.imwrite(dest + severity[sev]+'/' + f, im)"
   ]
  },
  {
   "cell_type": "code",
   "execution_count": 38,
   "id": "803e790d-e3fd-4869-b111-8a79ab44c646",
   "metadata": {},
   "outputs": [],
   "source": [
    "direc = './atpos_data/test_images/'\n",
    "dest = './prepared_data_aptos/test_data/'\n",
    "for dirpath, dirname, filename in os.walk(direc):\n",
    "    for f in filename:\n",
    "        im = cv2.imread(direc+f)\n",
    "        im = cv2.resize(im, (224, 224))\n",
    "        ind = (f.split('.'))[0]\n",
    "        sev = testLabels.loc[ind].values[0]\n",
    "        cv2.imwrite(dest + severity[sev]+'/' + f, im)"
   ]
  },
  {
   "cell_type": "code",
   "execution_count": 39,
   "id": "8de98a8a-1ef7-4e26-ad75-ed3e4f82444e",
   "metadata": {},
   "outputs": [],
   "source": [
    "direc = './atpos_data/val_images/'\n",
    "dest = './prepared_data_aptos/val_data/'\n",
    "for dirpath, dirname, filename in os.walk(direc):\n",
    "    for f in filename:\n",
    "        im = cv2.imread(direc+f)\n",
    "        im = cv2.resize(im, (224, 224))\n",
    "        ind = (f.split('.'))[0]\n",
    "        sev = valLabels.loc[ind].values[0]\n",
    "        cv2.imwrite(dest + severity[sev]+'/' + f, im)"
   ]
  }
 ],
 "metadata": {
  "kernelspec": {
   "display_name": "Python 3 (ipykernel)",
   "language": "python",
   "name": "python3"
  },
  "language_info": {
   "codemirror_mode": {
    "name": "ipython",
    "version": 3
   },
   "file_extension": ".py",
   "mimetype": "text/x-python",
   "name": "python",
   "nbconvert_exporter": "python",
   "pygments_lexer": "ipython3",
   "version": "3.11.2"
  }
 },
 "nbformat": 4,
 "nbformat_minor": 5
}
