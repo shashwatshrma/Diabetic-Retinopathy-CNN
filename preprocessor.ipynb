{
 "cells": [
  {
   "cell_type": "markdown",
   "id": "e8cfac52-6825-4c2e-b3ba-d393097493c9",
   "metadata": {},
   "source": [
    "## Preparing our data\n",
    "This notebook contains the code to seperate the images in the given dataset into different directories based on their labels so that we can make use of Tensorflow's Image data generators.\n",
    "\n",
    "trainLabels.csv contains the image name and level of diabetic retinopathy on a scale of 0 to 4, according to the following scale:\n",
    "0 - No DR\n",
    "1 - Mild\n",
    "2 - Moderate\n",
    "3 - Severe\n",
    "4 - Proliferative DR\n",
    "\n",
    "train/ contains the fundus images in the dataset\n",
    "\n",
    "prepared_data/ contains the seperated data"
   ]
  },
  {
   "cell_type": "code",
   "execution_count": 1,
   "id": "6745135a-1785-4260-9db6-807ef0f248de",
   "metadata": {},
   "outputs": [],
   "source": [
    "import os\n",
    "import shutil\n",
    "import pandas as pd\n",
    "import numpy as np"
   ]
  },
  {
   "cell_type": "code",
   "execution_count": 2,
   "id": "383b6b89-c0cc-4aec-be90-24a29e9f0563",
   "metadata": {},
   "outputs": [
    {
     "data": {
      "text/html": [
       "<div>\n",
       "<style scoped>\n",
       "    .dataframe tbody tr th:only-of-type {\n",
       "        vertical-align: middle;\n",
       "    }\n",
       "\n",
       "    .dataframe tbody tr th {\n",
       "        vertical-align: top;\n",
       "    }\n",
       "\n",
       "    .dataframe thead th {\n",
       "        text-align: right;\n",
       "    }\n",
       "</style>\n",
       "<table border=\"1\" class=\"dataframe\">\n",
       "  <thead>\n",
       "    <tr style=\"text-align: right;\">\n",
       "      <th></th>\n",
       "      <th>image</th>\n",
       "      <th>level</th>\n",
       "    </tr>\n",
       "  </thead>\n",
       "  <tbody>\n",
       "    <tr>\n",
       "      <th>0</th>\n",
       "      <td>10_left</td>\n",
       "      <td>0</td>\n",
       "    </tr>\n",
       "    <tr>\n",
       "      <th>1</th>\n",
       "      <td>10_right</td>\n",
       "      <td>0</td>\n",
       "    </tr>\n",
       "    <tr>\n",
       "      <th>2</th>\n",
       "      <td>13_left</td>\n",
       "      <td>0</td>\n",
       "    </tr>\n",
       "    <tr>\n",
       "      <th>3</th>\n",
       "      <td>13_right</td>\n",
       "      <td>0</td>\n",
       "    </tr>\n",
       "    <tr>\n",
       "      <th>4</th>\n",
       "      <td>15_left</td>\n",
       "      <td>1</td>\n",
       "    </tr>\n",
       "  </tbody>\n",
       "</table>\n",
       "</div>"
      ],
      "text/plain": [
       "      image  level\n",
       "0   10_left      0\n",
       "1  10_right      0\n",
       "2   13_left      0\n",
       "3  13_right      0\n",
       "4   15_left      1"
      ]
     },
     "execution_count": 2,
     "metadata": {},
     "output_type": "execute_result"
    }
   ],
   "source": [
    "labels = pd.read_csv('trainLabels.csv')\n",
    "labels.head()"
   ]
  },
  {
   "cell_type": "code",
   "execution_count": 3,
   "id": "37b4a023-6233-400a-bd17-8fa5c3325065",
   "metadata": {},
   "outputs": [],
   "source": [
    "labels = labels.set_index('image')"
   ]
  },
  {
   "cell_type": "code",
   "execution_count": 4,
   "id": "f09dfe5c-17ac-4c37-9dc0-6a153af05963",
   "metadata": {},
   "outputs": [],
   "source": [
    "os.makedirs('./prepared_data/train_data/no_dr/', exist_ok=True)\n",
    "os.makedirs('./prepared_data/train_data/mild/', exist_ok=True)\n",
    "os.makedirs('./prepared_data/train_data/moderate/', exist_ok=True)\n",
    "os.makedirs('./prepared_data/train_data/severe/', exist_ok=True)\n",
    "os.makedirs('./prepared_data/train_data/proliferative/', exist_ok=True)\n",
    "os.makedirs('./prepared_data/test_data/no_dr/', exist_ok=True)\n",
    "os.makedirs('./prepared_data/test_data/mild/', exist_ok=True)\n",
    "os.makedirs('./prepared_data/test_data/moderate/', exist_ok=True)\n",
    "os.makedirs('./prepared_data/test_data/severe/', exist_ok=True)\n",
    "os.makedirs('./prepared_data/test_data/proliferative/', exist_ok=True)"
   ]
  },
  {
   "cell_type": "code",
   "execution_count": 5,
   "id": "4e95c7e1-f335-4a24-9bb9-4954ad738a19",
   "metadata": {},
   "outputs": [
    {
     "data": {
      "text/plain": [
       "dtype('int64')"
      ]
     },
     "execution_count": 5,
     "metadata": {},
     "output_type": "execute_result"
    }
   ],
   "source": [
    "labels['level'].dtype"
   ]
  },
  {
   "cell_type": "code",
   "execution_count": 6,
   "id": "9a557e6e-5524-4a23-a698-015958348182",
   "metadata": {},
   "outputs": [
    {
     "data": {
      "text/plain": [
       "level    0\n",
       "Name: 10_left, dtype: int64"
      ]
     },
     "execution_count": 6,
     "metadata": {},
     "output_type": "execute_result"
    }
   ],
   "source": [
    "labels.loc['10_left']"
   ]
  },
  {
   "cell_type": "code",
   "execution_count": 7,
   "id": "12cfd522-4c36-4c32-aace-ba6a5a5d62e4",
   "metadata": {},
   "outputs": [
    {
     "data": {
      "text/plain": [
       "18327"
      ]
     },
     "execution_count": 7,
     "metadata": {},
     "output_type": "execute_result"
    }
   ],
   "source": [
    "dir = './train/'\n",
    "n = len(os.listdir(dir))\n",
    "n"
   ]
  },
  {
   "cell_type": "markdown",
   "id": "696e9c0e-1de8-4a1f-aafb-a88af4bbabbf",
   "metadata": {},
   "source": [
    "## Splitting the data\n",
    "We perform a standard 80-20 train-test split. Before saving an image, we use PIL's Image to resize the image into 300x300 images."
   ]
  },
  {
   "cell_type": "code",
   "execution_count": 8,
   "id": "cd788a5b-f8ca-40e3-b0ae-6424715feb6e",
   "metadata": {},
   "outputs": [],
   "source": [
    "from PIL import ImageFile\n",
    "ImageFile.LOAD_TRUNCATED_IMAGES = True\n",
    "from PIL import Image, ImageOps\n",
    "dest = './prepared_data/train_data/'\n",
    "for dirpath, dirname, filename in os.walk(dir):\n",
    "    for f, i in zip(filename, range(0, int(0.8*n), 1)):\n",
    "\n",
    "        im = Image.open(dir+f)\n",
    "        width, height = im.size\n",
    "        new_side = min(width, height)\n",
    "        left = (width - new_side)/2\n",
    "        top = (height - new_side)/2\n",
    "        right = (width + new_side)/2\n",
    "        bottom = (height + new_side)/2\n",
    "        \n",
    "        im = im.crop((left, top, right, bottom))\n",
    "        im = im.resize((300, 300))\n",
    "        im = ImageOps.grayscale(im)\n",
    "        im.save(dir+f)\n",
    "\n",
    "        ind = (f.split('.'))[0]\n",
    "        if labels.loc[ind].values[0] == 0:\n",
    "            shutil.move(src = dirpath+'/'+f, dst = dest + 'no_dr/')\n",
    "        elif labels.loc[ind].values[0] == 1:\n",
    "            shutil.move(src = dirpath+'/'+f, dst = dest + 'mild/')\n",
    "        elif labels.loc[ind].values[0] == 2:\n",
    "            shutil.move(src = dirpath+'/'+f, dst = dest + 'moderate/')\n",
    "        elif labels.loc[ind].values[0] == 3:\n",
    "            shutil.move(src = dirpath+'/'+f, dst = dest + 'severe/')\n",
    "        elif labels.loc[ind].values[0] == 4:\n",
    "            shutil.move(src = dirpath+'/'+f, dst = dest + 'proliferative/')"
   ]
  },
  {
   "cell_type": "code",
   "execution_count": 9,
   "id": "803e790d-e3fd-4869-b111-8a79ab44c646",
   "metadata": {},
   "outputs": [],
   "source": [
    "dest = './prepared_data/test_data/'\n",
    "for dirpath, dirname, filename in os.walk(dir):\n",
    "    for f in filename:\n",
    "        \n",
    "        im = Image.open(dir+f)\n",
    "        width, height = im.size\n",
    "        new_side = min(width, height)\n",
    "        left = (width - new_side)/2\n",
    "        top = (height - new_side)/2\n",
    "        right = (width + new_side)/2\n",
    "        bottom = (height + new_side)/2\n",
    "        \n",
    "        im = im.crop((left, top, right, bottom))\n",
    "        im = im.resize((300, 300))\n",
    "        im = ImageOps.grayscale(im)\n",
    "        im.save(dir+f)\n",
    "\n",
    "        ind = (f.split('.'))[0]\n",
    "        if labels.loc[ind].values[0] == 0:\n",
    "            shutil.move(src = dirpath+'/'+f, dst = dest + 'no_dr/')\n",
    "        elif labels.loc[ind].values[0] == 1:\n",
    "            shutil.move(src = dirpath+'/'+f, dst = dest + 'mild/')\n",
    "        elif labels.loc[ind].values[0] == 2:\n",
    "            shutil.move(src = dirpath+'/'+f, dst = dest + 'moderate/')\n",
    "        elif labels.loc[ind].values[0] == 3:\n",
    "            shutil.move(src = dirpath+'/'+f, dst = dest + 'severe/')\n",
    "        elif labels.loc[ind].values[0] == 4:\n",
    "            shutil.move(src = dirpath+'/'+f, dst = dest + 'proliferative/')"
   ]
  },
  {
   "cell_type": "code",
   "execution_count": null,
   "id": "8de98a8a-1ef7-4e26-ad75-ed3e4f82444e",
   "metadata": {},
   "outputs": [],
   "source": []
  }
 ],
 "metadata": {
  "kernelspec": {
   "display_name": "Python 3 (ipykernel)",
   "language": "python",
   "name": "python3"
  },
  "language_info": {
   "codemirror_mode": {
    "name": "ipython",
    "version": 3
   },
   "file_extension": ".py",
   "mimetype": "text/x-python",
   "name": "python",
   "nbconvert_exporter": "python",
   "pygments_lexer": "ipython3",
   "version": "3.11.8"
  }
 },
 "nbformat": 4,
 "nbformat_minor": 5
}
